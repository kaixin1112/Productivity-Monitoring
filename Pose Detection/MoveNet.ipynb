{
 "cells": [
  {
   "cell_type": "markdown",
   "metadata": {},
   "source": [
    "**Step 1: Import libraries**"
   ]
  },
  {
   "cell_type": "code",
   "execution_count": 1,
   "metadata": {},
   "outputs": [],
   "source": [
    "import tensorflow as tf\n",
    "import numpy as np\n",
    "from matplotlib import pyplot as plt\n",
    "import cv2"
   ]
  },
  {
   "cell_type": "markdown",
   "metadata": {},
   "source": [
    "**Step 2: Load Model**"
   ]
  },
  {
   "cell_type": "code",
   "execution_count": 3,
   "metadata": {},
   "outputs": [],
   "source": [
    "interpreter = tf.lite.Interpreter(model_path='lite-model_movenet_singlepose_lightning_3.tflite')\n",
    "interpreter.allocate_tensors()"
   ]
  },
  {
   "cell_type": "markdown",
   "metadata": {},
   "source": [
    "**Step 3: Make Detection**"
   ]
  },
  {
   "cell_type": "markdown",
   "metadata": {},
   "source": [
    "**Function: Draw Keypoints & Connections**"
   ]
  },
  {
   "cell_type": "code",
   "execution_count": null,
   "metadata": {},
   "outputs": [],
   "source": [
    "# Function to draw keypoints and connections\n",
    "def draw_keypoints_and_connections(image, keypoints_with_scores, threshold=0.4):\n",
    "    height, width, _ = image.shape\n",
    "    keypoints = keypoints_with_scores[0][0]\n",
    "    \n",
    "    # Define the edges to connect keypoints (similar to MediaPipe)\n",
    "    EDGES = {\n",
    "        (0, 1): 'm', (0, 2): 'm', (1, 3): 'c', (2, 4): 'c',\n",
    "        (0, 5): 'm', (0, 6): 'm', (5, 7): 'y', (7, 9): 'y',\n",
    "        (6, 8): 'y', (8, 10): 'y', (5, 6): 'm', (5, 11): 'm',\n",
    "        (6, 12): 'm', (11, 13): 'm', (13, 15): 'y', (12, 14): 'y',\n",
    "        (14, 16): 'y', (11, 12): 'm'\n",
    "    }\n",
    "    \n",
    "    # Draw keypoints\n",
    "    for idx, keypoint in enumerate(keypoints):\n",
    "        y, x, confidence = keypoint\n",
    "        if confidence > threshold:\n",
    "            cv2.circle(image, (int(x * width), int(y * height)), 5, (0, 255, 0), -1)\n",
    "\n",
    "    # Draw connections\n",
    "    for (p1, p2), color in EDGES.items():\n",
    "        y1, x1, c1 = keypoints[p1]\n",
    "        y2, x2, c2 = keypoints[p2]\n",
    "        if c1 > threshold and c2 > threshold:\n",
    "            cv2.line(image, (int(x1 * width), int(y1 * height)), \n",
    "                     (int(x2 * width), int(y2 * height)), (0, 255, 0), 2)"
   ]
  },
  {
   "cell_type": "code",
   "execution_count": null,
   "metadata": {},
   "outputs": [],
   "source": [
    "# Start video capture\n",
    "cap = cv2.VideoCapture(0, cv2.CAP_DSHOW)\n",
    "while cap.isOpened():\n",
    "    ret, frame = cap.read()\n",
    "    if not ret:\n",
    "        break\n",
    "    \n",
    "    # Preprocess image\n",
    "    img = tf.image.resize_with_pad(np.expand_dims(frame, axis=0), 192, 192)\n",
    "    input_image = tf.cast(img, dtype=tf.float32)\n",
    "    \n",
    "    # Setup input and output for the interpreter\n",
    "    input_details = interpreter.get_input_details()\n",
    "    output_details = interpreter.get_output_details()\n",
    "    \n",
    "    # Set input tensor\n",
    "    interpreter.set_tensor(input_details[0]['index'], np.array(input_image))\n",
    "    interpreter.invoke()\n",
    "    \n",
    "    # Get output keypoints with scores\n",
    "    keypoints_with_scores = interpreter.get_tensor(output_details[0]['index'])\n",
    "    \n",
    "    # Draw keypoints and connections\n",
    "    draw_keypoints_and_connections(frame, keypoints_with_scores, threshold=0.4)\n",
    "    \n",
    "    # Display the frame\n",
    "    cv2.imshow('MoveNet Lightning', frame)\n",
    "    \n",
    "    # Exit screen if ESC or q button was pressed\n",
    "    if cv2.waitKey(10) & 0xFF == ord('q'):\n",
    "        break\n",
    "    if(cv2.waitKey(1) & 0xFF == 27):\n",
    "        break\n",
    "\n",
    "cap.release()\n",
    "cv2.destroyAllWindows()"
   ]
  }
 ],
 "metadata": {
  "kernelspec": {
   "display_name": "Python 3",
   "language": "python",
   "name": "python3"
  },
  "language_info": {
   "codemirror_mode": {
    "name": "ipython",
    "version": 3
   },
   "file_extension": ".py",
   "mimetype": "text/x-python",
   "name": "python",
   "nbconvert_exporter": "python",
   "pygments_lexer": "ipython3",
   "version": "3.12.4"
  }
 },
 "nbformat": 4,
 "nbformat_minor": 2
}
